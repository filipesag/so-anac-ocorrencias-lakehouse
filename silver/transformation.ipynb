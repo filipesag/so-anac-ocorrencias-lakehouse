{
 "cells": [
  {
   "cell_type": "markdown",
   "metadata": {
    "application/vnd.databricks.v1+cell": {
     "cellMetadata": {
      "byteLimit": 2048000,
      "rowLimit": 10000
     },
     "inputWidgets": {},
     "nuid": "9d923278-17a4-47fd-9662-29ede7ccc103",
     "showTitle": false,
     "tableResultSettingsMap": {},
     "title": ""
    }
   },
   "source": [
    "#### 1.Create Schema"
   ]
  },
  {
   "cell_type": "code",
   "execution_count": 0,
   "metadata": {
    "application/vnd.databricks.v1+cell": {
     "cellMetadata": {
      "byteLimit": 2048000,
      "rowLimit": 10000
     },
     "inputWidgets": {},
     "nuid": "527a0fb6-fe40-4909-ae09-a7bfb8eb6f05",
     "showTitle": false,
     "tableResultSettingsMap": {},
     "title": ""
    }
   },
   "outputs": [],
   "source": [
    "from pyspark.sql.types import StructType, StructField, StringType, IntegerType, DoubleType, DateType"
   ]
  },
  {
   "cell_type": "code",
   "execution_count": 0,
   "metadata": {
    "application/vnd.databricks.v1+cell": {
     "cellMetadata": {
      "byteLimit": 2048000,
      "rowLimit": 10000
     },
     "collapsed": true,
     "inputWidgets": {},
     "nuid": "df51d742-a9b6-48b8-8785-ac1fb205bb12",
     "showTitle": false,
     "tableResultSettingsMap": {},
     "title": ""
    }
   },
   "outputs": [],
   "source": [
    "occurrences_schema = StructType(fields=[StructField(\"Numero_da_Ocorrencia\", IntegerType(), False),\n",
    "                                       StructField(\"Numero_da_Ficha\", StringType(), False),\n",
    "                                       StructField(\"Operador_Padronizado\", StringType(), True),\n",
    "                                       StructField(\"Classificacao_da_Ocorrencia\", StringType(), True),\n",
    "                                       StructField(\"Data_da_Ocorrencia\", DateType(), True),\n",
    "                                       StructField(\"Hora_da_Ocorrencia\", StringType(), True),\n",
    "                                       StructField(\"Municipio\", StringType(), True),\n",
    "                                       StructField(\"UF\", StringType(), True),\n",
    "                                       StructField(\"Regiao\", StringType(), True),\n",
    "                                       StructField(\"Descricao_do_Tipo\", StringType(), True),\n",
    "                                       StructField(\"ICAO\", StringType(), True),\n",
    "                                       StructField(\"Latitude\", StringType(), True),\n",
    "                                       StructField(\"Longitude\", StringType(), True),\n",
    "                                       StructField(\"Tipo_de_Aerodromo\", StringType(), True),\n",
    "                                       StructField(\"Historico\", StringType(), True),\n",
    "                                       StructField(\"Matricula\", StringType(), True),\n",
    "                                       StructField(\"Categoria_da_Aeronave\", StringType(), True),\n",
    "                                       StructField(\"Operador\", StringType(), True),\n",
    "                                       StructField(\"Tipo_de_Ocorrencia\", StringType(), True),\n",
    "                                       StructField(\"Fase_da_Operacao\", StringType(), True),\n",
    "                                       StructField(\"Operacao\", StringType(), True),\n",
    "                                       StructField(\"Danos_a_Aeronave\", StringType(), True),\n",
    "                                       StructField(\"Aerodromo_de_Destino\", StringType(), True),\n",
    "                                       StructField(\"Aerodromo_de_Origem\", StringType(), True),\n",
    "                                       StructField(\"Lesoes_Fatais_Tripulantes\", IntegerType(), True),\n",
    "                                       StructField(\"Lesoes_Fatais_Passageiros\", IntegerType(), True),\n",
    "                                       StructField(\"Lesoes_Fatais_Terceiros\", IntegerType(), True),\n",
    "                                       StructField(\"Lesoes_Graves_Tripulantes\", IntegerType(), True),\n",
    "                                       StructField(\"Lesoes_Graves_Passageiros\", IntegerType(), True),\n",
    "                                       StructField(\"Lesoes_Graves_Terceiros\", IntegerType(), True),\n",
    "                                       StructField(\"Lesoes_Leves_Tripulantes\", IntegerType(), True),\n",
    "                                       StructField(\"Lesoes_Leves_Passageiros\", IntegerType(), True),\n",
    "                                       StructField(\"Lesoes_Leves_Terceiros\", IntegerType(), True),\n",
    "                                       StructField(\"Ilesos_Tripulantes\", IntegerType(), True),\n",
    "                                       StructField(\"Ilesos_Passageiros\", IntegerType(), True),\n",
    "                                       StructField(\"Lesoes_Desconhecidas_Tripulantes\", IntegerType(), True),\n",
    "                                       StructField(\"Lesoes_Desconhecidas_Passageiros\", IntegerType(), True),\n",
    "                                       StructField(\"Lesoes_Desconhecidas_Terceiros\", IntegerType(), True),\n",
    "                                       StructField(\"Modelo\", StringType(), True),\n",
    "                                       StructField(\"CLS\", StringType(), True),\n",
    "                                       StructField(\"Tipo_ICAO\", StringType(), True),\n",
    "                                       StructField(\"PMD\", IntegerType(), True),\n",
    "                                       StructField(\"Numero_de_Assentos\", IntegerType(), True),\n",
    "                                       StructField(\"Nome_do_Fabricante\", StringType(), True),\n",
    "                                       StructField(\"PSSO\", StringType(), True)\n",
    "])"
   ]
  },
  {
   "cell_type": "code",
   "execution_count": 0,
   "metadata": {
    "application/vnd.databricks.v1+cell": {
     "cellMetadata": {
      "byteLimit": 2048000,
      "rowLimit": 10000
     },
     "inputWidgets": {},
     "nuid": "2b75d0c1-1f69-4a44-bf90-9294a771e9ca",
     "showTitle": false,
     "tableResultSettingsMap": {},
     "title": ""
    }
   },
   "outputs": [],
   "source": [
    "occurrences_df = spark.read.option(\"header\", True) \\\n",
    "                                   .option(\"multiLine\", True) \\\n",
    "                                   .option(\"delimiter\", \";\") \\\n",
    "                                   .schema(occurrences_schema) \\\n",
    "                                   .csv(\"abfss://bronze@ocorrenciasanacdl.dfs.core.windows.net/V_OCORRENCIA_AMPLA.csv\")"
   ]
  },
  {
   "cell_type": "code",
   "execution_count": 0,
   "metadata": {
    "application/vnd.databricks.v1+cell": {
     "cellMetadata": {
      "byteLimit": 2048000,
      "rowLimit": 10000
     },
     "collapsed": true,
     "inputWidgets": {},
     "nuid": "b09b4f6c-3991-4248-afaa-ba806e828de9",
     "showTitle": false,
     "tableResultSettingsMap": {},
     "title": ""
    }
   },
   "outputs": [],
   "source": [
    "display(occurrences_df.limit(10))"
   ]
  },
  {
   "cell_type": "markdown",
   "metadata": {
    "application/vnd.databricks.v1+cell": {
     "cellMetadata": {},
     "inputWidgets": {},
     "nuid": "4b85cf25-27cc-4548-944a-9f05c1a73cfb",
     "showTitle": false,
     "tableResultSettingsMap": {},
     "title": ""
    }
   },
   "source": [
    "### 2.Filter and rename columns "
   ]
  },
  {
   "cell_type": "code",
   "execution_count": 0,
   "metadata": {
    "application/vnd.databricks.v1+cell": {
     "cellMetadata": {},
     "inputWidgets": {},
     "nuid": "09efe42f-6c94-43d0-9676-6d674716be1f",
     "showTitle": false,
     "tableResultSettingsMap": {},
     "title": ""
    }
   },
   "outputs": [],
   "source": []
  }
 ],
 "metadata": {
  "application/vnd.databricks.v1+notebook": {
   "computePreferences": null,
   "dashboards": [],
   "environmentMetadata": {
    "base_environment": "",
    "environment_version": "2"
   },
   "inputWidgetPreferences": null,
   "language": "python",
   "notebookMetadata": {
    "pythonIndentUnit": 4
   },
   "notebookName": "transformation",
   "widgets": {}
  },
  "language_info": {
   "name": "python"
  }
 },
 "nbformat": 4,
 "nbformat_minor": 0
}
