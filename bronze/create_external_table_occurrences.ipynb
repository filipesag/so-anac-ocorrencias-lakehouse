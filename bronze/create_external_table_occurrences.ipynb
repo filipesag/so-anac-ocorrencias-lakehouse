{
 "cells": [
  {
   "cell_type": "code",
   "execution_count": 0,
   "metadata": {
    "application/vnd.databricks.v1+cell": {
     "cellMetadata": {
      "byteLimit": 2048000,
      "rowLimit": 10000
     },
     "inputWidgets": {},
     "nuid": "18821a41-418e-484f-a9f5-c0ea46429529",
     "showTitle": false,
     "tableResultSettingsMap": {},
     "title": ""
    }
   },
   "outputs": [],
   "source": [
    "DROP TABLE IF EXISTS anac_ocorrencias_dev.bronze.occurrences;\n",
    "CREATE TABLE IF NOT EXISTS anac_ocorrencias_dev.bronze.occurrences \n",
    "USING csv\n",
    "OPTIONS (\n",
    "  path \"abfss://bronze@ocorrenciasanacdl.dfs.core.windows.net/V_OCORRENCIA_AMPLA.csv\",\n",
    "  header = \"true\",\n",
    "  delimiter = \";\",\n",
    "  encoding = \"utf-8\",\n",
    "  inferSchema = \"true\",\n",
    "  multiLine = \"true\"\n",
    ")"
   ]
  },
  {
   "cell_type": "code",
   "execution_count": 0,
   "metadata": {
    "application/vnd.databricks.v1+cell": {
     "cellMetadata": {
      "byteLimit": 2048000,
      "rowLimit": 10000
     },
     "collapsed": true,
     "inputWidgets": {},
     "nuid": "ecd24ec9-0721-4c91-a3bc-8c138ff87a55",
     "showTitle": false,
     "tableResultSettingsMap": {},
     "title": ""
    }
   },
   "outputs": [],
   "source": [
    "SELECT Numero_da_Ocorrencia,Matricula, COUNT(Numero_da_Ocorrencia) AS QTD\n",
    "FROM anac_ocorrencias_dev.bronze.occurrences \n",
    "GROUP BY Numero_da_Ocorrencia,Matricula\n",
    "HAVING COUNT(Numero_da_Ocorrencia) > 1;"
   ]
  },
  {
   "cell_type": "code",
   "execution_count": 0,
   "metadata": {
    "application/vnd.databricks.v1+cell": {
     "cellMetadata": {
      "byteLimit": 2048000,
      "rowLimit": 10000
     },
     "collapsed": true,
     "inputWidgets": {},
     "nuid": "6c053add-9c0d-405f-9f77-8a14b35c7107",
     "showTitle": false,
     "tableResultSettingsMap": {},
     "title": ""
    }
   },
   "outputs": [],
   "source": [
    "SELECT * FROM anac_ocorrencias_dev.bronze.occurrences LIMIT 10;"
   ]
  }
 ],
 "metadata": {
  "application/vnd.databricks.v1+notebook": {
   "computePreferences": null,
   "dashboards": [],
   "environmentMetadata": {
    "base_environment": "",
    "environment_version": "2"
   },
   "inputWidgetPreferences": null,
   "language": "sql",
   "notebookMetadata": {
    "pythonIndentUnit": 4
   },
   "notebookName": "create_external_table_occurrences",
   "widgets": {}
  },
  "language_info": {
   "name": "sql"
  }
 },
 "nbformat": 4,
 "nbformat_minor": 0
}
