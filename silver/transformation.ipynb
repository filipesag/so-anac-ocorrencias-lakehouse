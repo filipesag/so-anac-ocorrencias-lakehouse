{
 "cells": [
  {
   "cell_type": "code",
   "execution_count": 0,
   "metadata": {
    "application/vnd.databricks.v1+cell": {
     "cellMetadata": {
      "byteLimit": 2048000,
      "rowLimit": 10000
     },
     "inputWidgets": {},
     "nuid": "cac29eb8-acb3-459b-9096-ea734ae7c243",
     "showTitle": false,
     "tableResultSettingsMap": {},
     "title": ""
    }
   },
   "outputs": [],
   "source": [
    "%run \"../utils/common_functions\""
   ]
  },
  {
   "cell_type": "markdown",
   "metadata": {
    "application/vnd.databricks.v1+cell": {
     "cellMetadata": {
      "byteLimit": 2048000,
      "rowLimit": 10000
     },
     "inputWidgets": {},
     "nuid": "9d923278-17a4-47fd-9662-29ede7ccc103",
     "showTitle": false,
     "tableResultSettingsMap": {},
     "title": ""
    }
   },
   "source": [
    "#### 1.Create Schema"
   ]
  },
  {
   "cell_type": "code",
   "execution_count": 0,
   "metadata": {
    "application/vnd.databricks.v1+cell": {
     "cellMetadata": {
      "byteLimit": 2048000,
      "rowLimit": 10000
     },
     "inputWidgets": {},
     "nuid": "527a0fb6-fe40-4909-ae09-a7bfb8eb6f05",
     "showTitle": false,
     "tableResultSettingsMap": {},
     "title": ""
    }
   },
   "outputs": [],
   "source": [
    "from pyspark.sql.types import StructType, StructField, StringType, IntegerType, DoubleType, DateType, BooleanType"
   ]
  },
  {
   "cell_type": "code",
   "execution_count": 0,
   "metadata": {
    "application/vnd.databricks.v1+cell": {
     "cellMetadata": {
      "byteLimit": 2048000,
      "rowLimit": 10000
     },
     "inputWidgets": {},
     "nuid": "df51d742-a9b6-48b8-8785-ac1fb205bb12",
     "showTitle": false,
     "tableResultSettingsMap": {},
     "title": ""
    }
   },
   "outputs": [],
   "source": [
    "occurrences_schema = StructType(fields=[StructField(\"Numero_da_Ocorrencia\", IntegerType(), False),\n",
    "                                       StructField(\"Numero_da_Ficha\", StringType(), False),\n",
    "                                       StructField(\"Operador_Padronizado\", StringType(), True),\n",
    "                                       StructField(\"Classificacao_da_Ocorrencia\", StringType(), True),\n",
    "                                       StructField(\"Data_da_Ocorrencia\", DateType(), True),\n",
    "                                       StructField(\"Hora_da_Ocorrencia\", StringType(), True),\n",
    "                                       StructField(\"Municipio\", StringType(), True),\n",
    "                                       StructField(\"UF\", StringType(), True),\n",
    "                                       StructField(\"Regiao\", StringType(), True),\n",
    "                                       StructField(\"Descricao_do_Tipo\", StringType(), True),\n",
    "                                       StructField(\"ICAO\", StringType(), True),\n",
    "                                       StructField(\"Latitude\", StringType(), True),\n",
    "                                       StructField(\"Longitude\", StringType(), True),\n",
    "                                       StructField(\"Tipo_de_Aerodromo\", StringType(), True),\n",
    "                                       StructField(\"Historico\", StringType(), True),\n",
    "                                       StructField(\"Matricula\", StringType(), True),\n",
    "                                       StructField(\"Categoria_da_Aeronave\", StringType(), True),\n",
    "                                       StructField(\"Operador\", StringType(), True),\n",
    "                                       StructField(\"Tipo_de_Ocorrencia\", StringType(), True),\n",
    "                                       StructField(\"Fase_da_Operacao\", StringType(), True),\n",
    "                                       StructField(\"Operacao\", StringType(), True),\n",
    "                                       StructField(\"Danos_a_Aeronave\", StringType(), True),\n",
    "                                       StructField(\"Aerodromo_de_Destino\", StringType(), True),\n",
    "                                       StructField(\"Aerodromo_de_Origem\", StringType(), True),\n",
    "                                       StructField(\"Lesoes_Fatais_Tripulantes\", IntegerType(), True),\n",
    "                                       StructField(\"Lesoes_Fatais_Passageiros\", IntegerType(), True),\n",
    "                                       StructField(\"Lesoes_Fatais_Terceiros\", IntegerType(), True),\n",
    "                                       StructField(\"Lesoes_Graves_Tripulantes\", IntegerType(), True),\n",
    "                                       StructField(\"Lesoes_Graves_Passageiros\", IntegerType(), True),\n",
    "                                       StructField(\"Lesoes_Graves_Terceiros\", IntegerType(), True),\n",
    "                                       StructField(\"Lesoes_Leves_Tripulantes\", IntegerType(), True),\n",
    "                                       StructField(\"Lesoes_Leves_Passageiros\", IntegerType(), True),\n",
    "                                       StructField(\"Lesoes_Leves_Terceiros\", IntegerType(), True),\n",
    "                                       StructField(\"Ilesos_Tripulantes\", IntegerType(), True),\n",
    "                                       StructField(\"Ilesos_Passageiros\", IntegerType(), True),\n",
    "                                       StructField(\"Lesoes_Desconhecidas_Tripulantes\", IntegerType(), True),\n",
    "                                       StructField(\"Lesoes_Desconhecidas_Passageiros\", IntegerType(), True),\n",
    "                                       StructField(\"Lesoes_Desconhecidas_Terceiros\", IntegerType(), True),\n",
    "                                       StructField(\"Modelo\", StringType(), True),\n",
    "                                       StructField(\"CLS\", StringType(), True),\n",
    "                                       StructField(\"Tipo_ICAO\", StringType(), True),\n",
    "                                       StructField(\"PMD\", IntegerType(), True),\n",
    "                                       StructField(\"Numero_de_Assentos\", IntegerType(), True),\n",
    "                                       StructField(\"Nome_do_Fabricante\", StringType(), True),\n",
    "                                       StructField(\"PSSO\", StringType(), True)\n",
    "])"
   ]
  },
  {
   "cell_type": "code",
   "execution_count": 0,
   "metadata": {
    "application/vnd.databricks.v1+cell": {
     "cellMetadata": {
      "byteLimit": 2048000,
      "rowLimit": 10000
     },
     "inputWidgets": {},
     "nuid": "b0422bf0-567b-4eeb-a5a0-c6b7547500f0",
     "showTitle": false,
     "tableResultSettingsMap": {},
     "title": ""
    }
   },
   "outputs": [],
   "source": [
    "aircraft_type_schema = StructType(fields=[StructField(\"ModelFullName\", StringType(), False),\n",
    "                                         StructField(\"Description\", StringType(), False),\n",
    "                                         StructField(\"WTC\", StringType(), False),\n",
    "                                         StructField(\"WTG\", StringType(), False),\n",
    "                                         StructField(\"Designator\", StringType(), False),\n",
    "                                         StructField(\"ManufacturerCode\", StringType(), False),\n",
    "                                         StructField(\"ShowInPart3Only\", BooleanType(), False),\n",
    "                                         StructField(\"AircraftDescription\", StringType(), False),\n",
    "                                         StructField(\"EngineCount\", IntegerType(), False),\n",
    "                                         StructField(\"EngineType\", StringType(), False)\n",
    "                                ])\n"
   ]
  },
  {
   "cell_type": "code",
   "execution_count": 0,
   "metadata": {
    "application/vnd.databricks.v1+cell": {
     "cellMetadata": {
      "byteLimit": 2048000,
      "rowLimit": 10000
     },
     "inputWidgets": {},
     "nuid": "3e88ac6c-b436-48b7-aedf-8e7a09820504",
     "showTitle": false,
     "tableResultSettingsMap": {},
     "title": ""
    }
   },
   "outputs": [],
   "source": [
    "aircraft_special_type_schema = StructType(fields=[StructField(\"Model\", StringType(), False),\n",
    "                                                  StructField(\"Type Designator\", StringType(), False)\n",
    "                                            ])"
   ]
  },
  {
   "cell_type": "code",
   "execution_count": 0,
   "metadata": {
    "application/vnd.databricks.v1+cell": {
     "cellMetadata": {
      "byteLimit": 2048000,
      "rowLimit": 10000
     },
     "inputWidgets": {},
     "nuid": "2b75d0c1-1f69-4a44-bf90-9294a771e9ca",
     "showTitle": false,
     "tableResultSettingsMap": {},
     "title": ""
    }
   },
   "outputs": [],
   "source": [
    "occurrences_df = spark.read.option(\"header\", True) \\\n",
    "                                   .option(\"multiLine\", True) \\\n",
    "                                   .option(\"delimiter\", \";\") \\\n",
    "                                   .option(\"nullValue\" ,\"null\" ) \\\n",
    "                                   .schema(occurrences_schema) \\\n",
    "                                   .csv(\"abfss://bronze@ocorrenciasanacdl.dfs.core.windows.net/V_OCORRENCIA_AMPLA.csv\").replace(\"\", None)"
   ]
  },
  {
   "cell_type": "code",
   "execution_count": 0,
   "metadata": {
    "application/vnd.databricks.v1+cell": {
     "cellMetadata": {
      "byteLimit": 2048000,
      "rowLimit": 10000
     },
     "inputWidgets": {},
     "nuid": "75c00023-ca13-41e7-8c1d-2620b3b47087",
     "showTitle": false,
     "tableResultSettingsMap": {},
     "title": ""
    }
   },
   "outputs": [],
   "source": [
    "aircraft_type_df = spark.read.option(\"header\", True) \\\n",
    "                                   .option(\"delimiter\", \",\") \\\n",
    "                                   .schema(aircraft_type_schema) \\\n",
    "                                   .csv(\"abfss://bronze@ocorrenciasanacdl.dfs.core.windows.net/icao_aircraft_types.csv\")"
   ]
  },
  {
   "cell_type": "code",
   "execution_count": 0,
   "metadata": {
    "application/vnd.databricks.v1+cell": {
     "cellMetadata": {
      "byteLimit": 2048000,
      "rowLimit": 10000
     },
     "inputWidgets": {},
     "nuid": "80690258-4398-49ff-a7c5-4e9c845cfcc0",
     "showTitle": false,
     "tableResultSettingsMap": {},
     "title": ""
    }
   },
   "outputs": [],
   "source": [
    "aircraft_special_type_df = spark.read.option(\"header\", True) \\\n",
    "                                   .option(\"delimiter\", \",\") \\\n",
    "                                   .schema(aircraft_special_type_schema) \\\n",
    "                                   .csv(\"abfss://bronze@ocorrenciasanacdl.dfs.core.windows.net/\"+\"special_designators_type.csv\")"
   ]
  },
  {
   "cell_type": "markdown",
   "metadata": {
    "application/vnd.databricks.v1+cell": {
     "cellMetadata": {
      "byteLimit": 2048000,
      "rowLimit": 10000
     },
     "inputWidgets": {},
     "nuid": "4b85cf25-27cc-4548-944a-9f05c1a73cfb",
     "showTitle": false,
     "tableResultSettingsMap": {},
     "title": ""
    }
   },
   "source": [
    "### 2.Filter and rename columns "
   ]
  },
  {
   "cell_type": "code",
   "execution_count": 0,
   "metadata": {
    "application/vnd.databricks.v1+cell": {
     "cellMetadata": {
      "byteLimit": 2048000,
      "rowLimit": 10000
     },
     "inputWidgets": {},
     "nuid": "09efe42f-6c94-43d0-9676-6d674716be1f",
     "showTitle": false,
     "tableResultSettingsMap": {},
     "title": ""
    }
   },
   "outputs": [],
   "source": [
    "from pyspark.sql.functions import col, date_format"
   ]
  },
  {
   "cell_type": "code",
   "execution_count": 0,
   "metadata": {
    "application/vnd.databricks.v1+cell": {
     "cellMetadata": {
      "byteLimit": 2048000,
      "rowLimit": 10000
     },
     "inputWidgets": {},
     "nuid": "c5722f38-9191-4859-b7fb-c44b5a488c86",
     "showTitle": false,
     "tableResultSettingsMap": {},
     "title": ""
    }
   },
   "outputs": [],
   "source": [
    "occurrences_filtered_columns = occurrences_df.select(col(\"Numero_da_Ocorrencia\").alias(\"occurrence_number\"), \n",
    "                                                     col(\"Operador_Padronizado\").alias(\"operator\"), \n",
    "                                                     col(\"Classificacao_da_Ocorrencia\").alias(\"occurrence_classification\"),\n",
    "                                                     col(\"Data_da_Ocorrencia\").alias(\"occurrence_date\"), \n",
    "                                                     col(\"Hora_da_Ocorrencia\").alias(\"occurrence_time\"),\n",
    "                                                     col(\"Municipio\").alias(\"city\"),\n",
    "                                                     col(\"UF\").alias(\"state\"),\n",
    "                                                     col(\"Regiao\").alias(\"region\"),\n",
    "                                                     col(\"Descricao_do_Tipo\").alias(\"occurrence_description\"),\n",
    "                                                     col(\"ICAO\").alias(\"icao_airport_code\"),\n",
    "                                                     col(\"Latitude\").alias(\"latitude\"),\n",
    "                                                     col(\"Longitude\").alias(\"longitude\"),\n",
    "                                                     col(\"Historico\").alias(\"occurrence_details\"),\n",
    "                                                     col(\"Matricula\").alias(\"aircraft_call_sign\"),\n",
    "                                                     col(\"Fase_da_Operacao\").alias(\"operation_phase\"),\n",
    "                                                     col(\"Operacao\").alias(\"operation\"),\n",
    "                                                     col(\"Danos_a_Aeronave\").alias(\"aircraft_damage\"),\n",
    "                                                     col(\"Aerodromo_de_Destino\").alias(\"arrival_airport\"),\n",
    "                                                     col(\"Aerodromo_de_Origem\").alias(\"departure_airport\"),\n",
    "                                                     col(\"Lesoes_Fatais_Tripulantes\").alias(\"casualties_crew\"),\n",
    "                                                     col(\"Lesoes_Fatais_Passageiros\").alias(\"casualties_pax\"),\n",
    "                                                     col(\"Lesoes_Fatais_Terceiros\").alias(\"casualties_ground\"),\n",
    "                                                     col(\"Lesoes_Graves_Tripulantes\").alias(\"severe_inj_crew\"),\n",
    "                                                     col(\"Lesoes_Graves_Passageiros\").alias(\"severe_inj_pax\"),\n",
    "                                                     col(\"Lesoes_Graves_Terceiros\").alias(\"severe_inj_ground\"),\n",
    "                                                     col(\"Lesoes_Leves_Tripulantes\").alias(\"minor_inj_crew\"),\n",
    "                                                     col(\"Lesoes_Leves_Passageiros\").alias(\"minor_inj_pax\"),\n",
    "                                                     col(\"Lesoes_Leves_Terceiros\").alias(\"minor_inj_ground\"),\n",
    "                                                     col(\"Ilesos_Tripulantes\").alias(\"unharmed_crew\"),\n",
    "                                                     col(\"Ilesos_Passageiros\").alias(\"unharmed_pax\"),\n",
    "                                                     col(\"Modelo\").alias(\"acft_model\"),\n",
    "                                                     col(\"Tipo_ICAO\").alias(\"acft_icao_type\"),\n",
    "                                                     col(\"PMD\").alias(\"acft_max_gross_weight\"),\n",
    "                                                     col(\"Numero_de_Assentos\").alias(\"acft_seats\"),\n",
    "                                                     col(\"Nome_do_Fabricante\").alias(\"acft_manufacturer\")\n",
    "                                                    )"
   ]
  },
  {
   "cell_type": "code",
   "execution_count": 0,
   "metadata": {
    "application/vnd.databricks.v1+cell": {
     "cellMetadata": {
      "byteLimit": 2048000,
      "rowLimit": 10000
     },
     "inputWidgets": {},
     "nuid": "322f548b-d465-45ed-8451-3b3fb5b62c18",
     "showTitle": false,
     "tableResultSettingsMap": {},
     "title": ""
    }
   },
   "outputs": [],
   "source": [
    "acft_type_filtered_df = aircraft_type_df.select(col(\"ModelFullName\").alias(\"acft_icao_model\"),\n",
    "                                                col(\"Description\").alias(\"acft_description\"),\n",
    "                                                col(\"WTC\").alias(\"wake_turbulence_category\"),\n",
    "                                                col(\"WTG\").alias(\"wake_turbulence_group\"),\n",
    "                                                col(\"Designator\").alias(\"icao_aircraft_type\"),\n",
    "                                                col(\"ManufacturerCode\").alias(\"manufacturer_code\"),\n",
    "                                                col(\"AircraftDescription\").alias(\"acft_classification\"),\n",
    "                                                col(\"EngineCount\").alias(\"number_of_engines\"),\n",
    "                                                col(\"EngineType\").alias(\"engine_type\"))"
   ]
  },
  {
   "cell_type": "code",
   "execution_count": 0,
   "metadata": {
    "application/vnd.databricks.v1+cell": {
     "cellMetadata": {
      "byteLimit": 2048000,
      "rowLimit": 10000
     },
     "inputWidgets": {},
     "nuid": "313ede48-aedd-4c69-b0fd-7445c9b1c6c9",
     "showTitle": false,
     "tableResultSettingsMap": {},
     "title": ""
    }
   },
   "outputs": [],
   "source": [
    "special_type_filtered_df = aircraft_special_type_df.select(col(\"Model\").alias(\"acft_special_model_description\"),\n",
    "                                col(\"Type Designator\").alias(\"acft_special_type\"))"
   ]
  },
  {
   "cell_type": "code",
   "execution_count": 0,
   "metadata": {
    "application/vnd.databricks.v1+cell": {
     "cellMetadata": {
      "byteLimit": 2048000,
      "rowLimit": 10000
     },
     "inputWidgets": {},
     "nuid": "6bc74aad-92a9-4d80-a53b-9399bd02318f",
     "showTitle": false,
     "tableResultSettingsMap": {},
     "title": ""
    }
   },
   "outputs": [],
   "source": [
    "from pyspark.sql.functions import regexp_replace"
   ]
  },
  {
   "cell_type": "code",
   "execution_count": 0,
   "metadata": {
    "application/vnd.databricks.v1+cell": {
     "cellMetadata": {
      "byteLimit": 2048000,
      "rowLimit": 10000
     },
     "inputWidgets": {},
     "nuid": "f6c71ce6-8d1c-4c29-a83e-b4522482c176",
     "showTitle": false,
     "tableResultSettingsMap": {},
     "title": ""
    }
   },
   "outputs": [],
   "source": [
    "special_type_filtered_df = special_type_filtered_df.withColumn(\n",
    "    \"acft_special_type\",\n",
    "    regexp_replace(\"acft_special_type\", r\"\\d+$\", \"\")\n",
    ")"
   ]
  },
  {
   "cell_type": "markdown",
   "metadata": {
    "application/vnd.databricks.v1+cell": {
     "cellMetadata": {
      "byteLimit": 2048000,
      "rowLimit": 10000
     },
     "inputWidgets": {},
     "nuid": "4b244211-7ac2-43ee-a144-bb4687d67e23",
     "showTitle": false,
     "tableResultSettingsMap": {},
     "title": ""
    }
   },
   "source": [
    "### 3. Null values handling"
   ]
  },
  {
   "cell_type": "code",
   "execution_count": 0,
   "metadata": {
    "application/vnd.databricks.v1+cell": {
     "cellMetadata": {
      "byteLimit": 2048000,
      "rowLimit": 10000
     },
     "inputWidgets": {},
     "nuid": "9790b6cc-0481-42d5-907f-e6b812b9ada5",
     "showTitle": false,
     "tableResultSettingsMap": {},
     "title": ""
    }
   },
   "outputs": [],
   "source": [
    "occurrences_nulls_handled = occurrences_filtered_columns.na.fill({\n",
    "    \"operator\": \"Desconhecido\",\n",
    "    \"city\": \"Não informado\",\n",
    "    \"icao_airport_code\": \"Indeterminado\",\n",
    "    \"acft_model\": \"Modelo desconhecido\",\n",
    "    \"acft_icao_type\": \"Tipo desconhecido\",\n",
    "    \"occurrence_time\": \"00:00:00\",\n",
    "    \"region\": \"Região desconhecida\",\n",
    "    \"occurrence_description\":\"Não informado\",\n",
    "    \"occurrence_details\":\"Detalhes não informado\",\n",
    "    \"operation_phase\":\"Não informado\",\n",
    "    \"aircraft_damage\":\"Não informado\",\n",
    "    \"arrival_airport\":\"Não informado\",\n",
    "    \"departure_airport\":\"Não informado\",\n",
    "    \"operation\":\"Não informado\",\n",
    "    \"acft_manufacturer\":\"Desconhecido\",\n",
    "    \"aircraft_call_sign\":\"Não informado\"\n",
    "}).na.fill(0, subset=[\n",
    "    \"casualties_crew\", \"casualties_pax\", \"casualties_ground\",\n",
    "    \"severe_inj_crew\", \"severe_inj_pax\", \"severe_inj_ground\",\n",
    "    \"minor_inj_crew\", \"minor_inj_pax\", \"minor_inj_ground\", \"unharmed_crew\", \"unharmed_pax\"\n",
    "])"
   ]
  },
  {
   "cell_type": "markdown",
   "metadata": {
    "application/vnd.databricks.v1+cell": {
     "cellMetadata": {
      "byteLimit": 2048000,
      "rowLimit": 10000
     },
     "inputWidgets": {},
     "nuid": "f0cfcbc9-779f-41f9-93f2-37f35f6fe004",
     "showTitle": false,
     "tableResultSettingsMap": {},
     "title": ""
    }
   },
   "source": [
    "### 4. Duplicated rows check"
   ]
  },
  {
   "cell_type": "code",
   "execution_count": 0,
   "metadata": {
    "application/vnd.databricks.v1+cell": {
     "cellMetadata": {
      "byteLimit": 2048000,
      "rowLimit": 10000
     },
     "inputWidgets": {},
     "nuid": "d65a7805-af08-4b54-89b1-2beda1746e4d",
     "showTitle": false,
     "tableResultSettingsMap": {},
     "title": ""
    }
   },
   "outputs": [],
   "source": [
    "occurrences_droped_df = drop_duplicates(occurrences_nulls_handled,[\"occurrence_number\",\"occurrence_description\"])\n"
   ]
  },
  {
   "cell_type": "code",
   "execution_count": 0,
   "metadata": {
    "application/vnd.databricks.v1+cell": {
     "cellMetadata": {
      "byteLimit": 2048000,
      "rowLimit": 10000
     },
     "inputWidgets": {},
     "nuid": "7d53dbba-b734-4b7e-b04b-8b20eb899bf6",
     "showTitle": false,
     "tableResultSettingsMap": {},
     "title": ""
    }
   },
   "outputs": [],
   "source": [
    "aircraft_type_filtered_dropped_df = drop_duplicates(acft_type_filtered_df,[\"engine_type\"])"
   ]
  },
  {
   "cell_type": "code",
   "execution_count": 0,
   "metadata": {
    "application/vnd.databricks.v1+cell": {
     "cellMetadata": {
      "byteLimit": 2048000,
      "rowLimit": 10000
     },
     "inputWidgets": {},
     "nuid": "2abdecd3-650d-4d7b-a800-1fd1eacb12cb",
     "showTitle": false,
     "tableResultSettingsMap": {},
     "title": ""
    }
   },
   "outputs": [],
   "source": [
    "aircraft_special_type_dropped_df = drop_duplicates(special_type_filtered_df,[\"acft_special_type\"])"
   ]
  },
  {
   "cell_type": "markdown",
   "metadata": {
    "application/vnd.databricks.v1+cell": {
     "cellMetadata": {
      "byteLimit": 2048000,
      "rowLimit": 10000
     },
     "inputWidgets": {},
     "nuid": "15fd1ffe-c31f-449b-8f5b-4a468d5986f7",
     "showTitle": false,
     "tableResultSettingsMap": {},
     "title": ""
    }
   },
   "source": [
    "### 5.Enrich some data and merge\n"
   ]
  },
  {
   "cell_type": "code",
   "execution_count": 0,
   "metadata": {
    "application/vnd.databricks.v1+cell": {
     "cellMetadata": {
      "byteLimit": 2048000,
      "rowLimit": 10000
     },
     "inputWidgets": {},
     "nuid": "69bb97fb-6b33-418f-b2be-5c064a7d5518",
     "showTitle": false,
     "tableResultSettingsMap": {},
     "title": ""
    }
   },
   "outputs": [],
   "source": [
    "from pyspark.sql.functions import year, hour"
   ]
  },
  {
   "cell_type": "code",
   "execution_count": 0,
   "metadata": {
    "application/vnd.databricks.v1+cell": {
     "cellMetadata": {
      "byteLimit": 2048000,
      "rowLimit": 10000
     },
     "inputWidgets": {},
     "nuid": "3719449b-6d09-4e4f-9e30-fc26d8e9e752",
     "showTitle": false,
     "tableResultSettingsMap": {},
     "title": ""
    }
   },
   "outputs": [],
   "source": [
    "occurrences_year_partitioned = occurrences_droped_df.withColumn(\"occurrence_year\", year(\"occurrence_date\"))"
   ]
  },
  {
   "cell_type": "code",
   "execution_count": 0,
   "metadata": {
    "application/vnd.databricks.v1+cell": {
     "cellMetadata": {
      "byteLimit": 2048000,
      "rowLimit": 10000
     },
     "inputWidgets": {},
     "nuid": "193f7bcc-5c40-4f1a-9b9f-a28ae32d91b9",
     "showTitle": false,
     "tableResultSettingsMap": {},
     "title": ""
    }
   },
   "outputs": [],
   "source": [
    "occurrence_hour_extracted_df = occurrences_year_partitioned.withColumn(\"occurrence_hour\", occurrences_year_partitioned.occurrence_time)"
   ]
  },
  {
   "cell_type": "code",
   "execution_count": 0,
   "metadata": {
    "application/vnd.databricks.v1+cell": {
     "cellMetadata": {
      "byteLimit": 2048000,
      "rowLimit": 10000
     },
     "inputWidgets": {},
     "nuid": "90598229-984c-4ea0-8374-9f79fed083b1",
     "showTitle": false,
     "tableResultSettingsMap": {},
     "title": ""
    }
   },
   "outputs": [],
   "source": [
    "merge_condition = \"tgt.occurrence_number == src.occurrence_number AND tgt.occurrence_description == src.occurrence_description\"\n",
    "merge_delta_data(\"anac_ocorrencias_dev\",\"silver\",\"processed_occurrences\",occurrences_year_partitioned,merge_condition,[\"state\", \"occurrence_year\"])"
   ]
  },
  {
   "cell_type": "code",
   "execution_count": 0,
   "metadata": {
    "application/vnd.databricks.v1+cell": {
     "cellMetadata": {
      "byteLimit": 2048000,
      "rowLimit": 10000
     },
     "inputWidgets": {},
     "nuid": "76e44cc4-461d-4717-9e8e-fa06d1209353",
     "showTitle": false,
     "tableResultSettingsMap": {},
     "title": ""
    }
   },
   "outputs": [],
   "source": [
    "merge_condition = \"tgt.acft_icao_model == src.acft_icao_model\"\n",
    "merge_delta_data(\"anac_ocorrencias_dev\",\"silver\",\"processed_aircraft_type\",aircraft_type_filtered_dropped_df,merge_condition,[\"engine_type\"])"
   ]
  },
  {
   "cell_type": "code",
   "execution_count": 0,
   "metadata": {
    "application/vnd.databricks.v1+cell": {
     "cellMetadata": {
      "byteLimit": 2048000,
      "rowLimit": 10000
     },
     "inputWidgets": {},
     "nuid": "52f50868-4a93-4a15-b527-bd1f3fc59b0d",
     "showTitle": false,
     "tableResultSettingsMap": {},
     "title": ""
    }
   },
   "outputs": [],
   "source": [
    "merge_condition = \"tgt.acft_special_model_description \\\n",
    " == src.acft_special_model_description\"\n",
    "merge_delta_data(\"anac_ocorrencias_dev\",\"silver\",\"processed_aircraft_special_type\",aircraft_special_type_dropped_df,merge_condition)"
   ]
  }
 ],
 "metadata": {
  "application/vnd.databricks.v1+notebook": {
   "computePreferences": null,
   "dashboards": [],
   "environmentMetadata": {
    "base_environment": "",
    "environment_version": "2"
   },
   "inputWidgetPreferences": null,
   "language": "python",
   "notebookMetadata": {
    "mostRecentlyExecutedCommandWithImplicitDF": {
     "commandId": 7997714824413426,
     "dataframes": [
      "_sqldf"
     ]
    },
    "pythonIndentUnit": 4
   },
   "notebookName": "transformation",
   "widgets": {}
  },
  "language_info": {
   "name": "python"
  }
 },
 "nbformat": 4,
 "nbformat_minor": 0
}
