{
 "cells": [
  {
   "cell_type": "code",
   "execution_count": 0,
   "metadata": {
    "application/vnd.databricks.v1+cell": {
     "cellMetadata": {
      "byteLimit": 2048000,
      "rowLimit": 10000
     },
     "inputWidgets": {},
     "nuid": "18821a41-418e-484f-a9f5-c0ea46429529",
     "showTitle": false,
     "tableResultSettingsMap": {},
     "title": ""
    }
   },
   "outputs": [],
   "source": [
    "DROP TABLE IF EXISTS anac_ocorrencias_dev.bronze.occurrences;\n",
    "CREATE TABLE IF NOT EXISTS anac_ocorrencias_dev.bronze.occurrences \n",
    "USING csv\n",
    "OPTIONS (\n",
    "  path \"abfss://bronze@ocorrenciasanacdl.dfs.core.windows.net/V_OCORRENCIA_AMPLA.csv\",\n",
    "  header = \"true\",\n",
    "  delimiter = \";\",\n",
    "  encoding = \"utf-8\",\n",
    "  inferSchema = \"true\",\n",
    "  multiLine = \"true\"\n",
    ")"
   ]
  },
  {
   "cell_type": "code",
   "execution_count": 0,
   "metadata": {
    "application/vnd.databricks.v1+cell": {
     "cellMetadata": {
      "byteLimit": 2048000,
      "rowLimit": 10000
     },
     "inputWidgets": {},
     "nuid": "2111c120-bca9-47d2-8715-d4192d788bb0",
     "showTitle": false,
     "tableResultSettingsMap": {},
     "title": ""
    }
   },
   "outputs": [],
   "source": [
    "DROP TABLE IF EXISTS anac_ocorrencias_dev.bronze.aircraft_type;\n",
    "CREATE TABLE IF NOT EXISTS anac_ocorrencias_dev.bronze.aircraft_type \n",
    "USING csv\n",
    "OPTIONS (\n",
    "  path \"abfss://bronze@ocorrenciasanacdl.dfs.core.windows.net/icao_aircraft_types.csv\",\n",
    "  header = \"true\",\n",
    "  delimiter = \",\",\n",
    "  encoding = \"utf-8\",\n",
    "  inferSchema = \"true\"\n",
    ")"
   ]
  },
  {
   "cell_type": "code",
   "execution_count": 0,
   "metadata": {
    "application/vnd.databricks.v1+cell": {
     "cellMetadata": {
      "byteLimit": 2048000,
      "rowLimit": 10000
     },
     "inputWidgets": {},
     "nuid": "2667e1fb-b264-4af9-82d4-973de397d027",
     "showTitle": false,
     "tableResultSettingsMap": {},
     "title": ""
    }
   },
   "outputs": [],
   "source": [
    "DROP TABLE IF EXISTS anac_ocorrencias_dev.bronze.aircraft_special_type;\n",
    "CREATE TABLE IF NOT EXISTS anac_ocorrencias_dev.bronze.aircraft_special_type \n",
    "USING csv\n",
    "OPTIONS (\n",
    "  path \"abfss://bronze@ocorrenciasanacdl.dfs.core.windows.net/special_designators_type.csv\",\n",
    "  header = \"true\",\n",
    "  delimiter = \",\",\n",
    "  encoding = \"utf-8\",\n",
    "  inferSchema = \"true\"\n",
    ")"
   ]
  },
  {
   "cell_type": "code",
   "execution_count": 0,
   "metadata": {
    "application/vnd.databricks.v1+cell": {
     "cellMetadata": {
      "byteLimit": 2048000,
      "rowLimit": 10000
     },
     "inputWidgets": {},
     "nuid": "a1c0d104-d4f8-4461-9e41-56b960640666",
     "showTitle": false,
     "tableResultSettingsMap": {},
     "title": ""
    }
   },
   "outputs": [],
   "source": [
    "SELECT * FROM anac_ocorrencias_dev.bronze.aicraft_type WHERE Designator LIKE \"%C-45H%\";"
   ]
  },
  {
   "cell_type": "code",
   "execution_count": 0,
   "metadata": {
    "application/vnd.databricks.v1+cell": {
     "cellMetadata": {
      "byteLimit": 2048000,
      "rowLimit": 10000
     },
     "collapsed": true,
     "inputWidgets": {},
     "nuid": "ecd24ec9-0721-4c91-a3bc-8c138ff87a55",
     "showTitle": false,
     "tableResultSettingsMap": {},
     "title": ""
    }
   },
   "outputs": [],
   "source": [
    "SELECT Numero_da_Ocorrencia,Matricula, COUNT(Numero_da_Ocorrencia) AS QTD\n",
    "FROM anac_ocorrencias_dev.bronze.occurrences \n",
    "GROUP BY Numero_da_Ocorrencia,Matricula\n",
    "HAVING COUNT(Numero_da_Ocorrencia) > 1;"
   ]
  },
  {
   "cell_type": "code",
   "execution_count": 0,
   "metadata": {
    "application/vnd.databricks.v1+cell": {
     "cellMetadata": {
      "byteLimit": 2048000,
      "rowLimit": 10000
     },
     "collapsed": true,
     "inputWidgets": {},
     "nuid": "6c053add-9c0d-405f-9f77-8a14b35c7107",
     "showTitle": false,
     "tableResultSettingsMap": {},
     "title": ""
    }
   },
   "outputs": [],
   "source": [
    "SELECT * FROM anac_ocorrencias_dev.bronze.occurrences LIMIT 10;"
   ]
  },
  {
   "cell_type": "code",
   "execution_count": 0,
   "metadata": {
    "application/vnd.databricks.v1+cell": {
     "cellMetadata": {
      "byteLimit": 2048000,
      "rowLimit": 10000
     },
     "inputWidgets": {},
     "nuid": "2f8f58af-e663-4751-a5e5-8de44666ec68",
     "showTitle": false,
     "tableResultSettingsMap": {},
     "title": ""
    }
   },
   "outputs": [],
   "source": [
    "SELECT DISTINCT Modelo, Tipo_ICAO, CLS, Nome_do_Fabricante FROM anac_ocorrencias_dev.bronze.occurrences ORDER BY Tipo_ICAO;"
   ]
  }
 ],
 "metadata": {
  "application/vnd.databricks.v1+notebook": {
   "computePreferences": null,
   "dashboards": [],
   "environmentMetadata": {
    "base_environment": "",
    "environment_version": "2"
   },
   "inputWidgetPreferences": null,
   "language": "sql",
   "notebookMetadata": {
    "pythonIndentUnit": 4
   },
   "notebookName": "create_external_table_occurrences",
   "widgets": {}
  },
  "language_info": {
   "name": "sql"
  }
 },
 "nbformat": 4,
 "nbformat_minor": 0
}
