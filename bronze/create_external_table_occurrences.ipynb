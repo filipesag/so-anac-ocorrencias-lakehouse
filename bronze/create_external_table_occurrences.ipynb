{
 "cells": [
  {
   "cell_type": "code",
   "execution_count": 0,
   "metadata": {
    "application/vnd.databricks.v1+cell": {
     "cellMetadata": {
      "byteLimit": 2048000,
      "rowLimit": 10000
     },
     "inputWidgets": {},
     "nuid": "7c5c128c-4019-43c0-8ece-6a2f55459ee2",
     "showTitle": false,
     "tableResultSettingsMap": {},
     "title": ""
    }
   },
   "outputs": [],
   "source": [
    "%run \"../set-up/create_catalog_schema\""
   ]
  },
  {
   "cell_type": "code",
   "execution_count": 0,
   "metadata": {
    "application/vnd.databricks.v1+cell": {
     "cellMetadata": {
      "byteLimit": 2048000,
      "rowLimit": 10000
     },
     "inputWidgets": {},
     "nuid": "18821a41-418e-484f-a9f5-c0ea46429529",
     "showTitle": false,
     "tableResultSettingsMap": {},
     "title": ""
    }
   },
   "outputs": [],
   "source": [
    "DROP TABLE IF EXISTS anac_ocorrencias_dev.bronze.occurrences;\n",
    "CREATE TABLE IF NOT EXISTS anac_ocorrencias_dev.bronze.occurrences \n",
    "USING csv\n",
    "OPTIONS (\n",
    "  path \"abfss://bronze@ocorrenciasanacdl.dfs.core.windows.net/V_OCORRENCIA_AMPLA.csv\",\n",
    "  header = \"true\",\n",
    "  delimiter = \";\",\n",
    "  encoding = \"utf-8\",\n",
    "  inferSchema = \"true\",\n",
    "  multiLine = \"true\"\n",
    ")"
   ]
  },
  {
   "cell_type": "code",
   "execution_count": 0,
   "metadata": {
    "application/vnd.databricks.v1+cell": {
     "cellMetadata": {
      "byteLimit": 2048000,
      "rowLimit": 10000
     },
     "inputWidgets": {},
     "nuid": "2111c120-bca9-47d2-8715-d4192d788bb0",
     "showTitle": false,
     "tableResultSettingsMap": {},
     "title": ""
    }
   },
   "outputs": [],
   "source": [
    "DROP TABLE IF EXISTS anac_ocorrencias_dev.bronze.aircraft_type;\n",
    "CREATE TABLE IF NOT EXISTS anac_ocorrencias_dev.bronze.aircraft_type \n",
    "USING csv\n",
    "OPTIONS (\n",
    "  path \"abfss://bronze@ocorrenciasanacdl.dfs.core.windows.net/icao_aircraft_types.csv\",\n",
    "  header = \"true\",\n",
    "  delimiter = \",\",\n",
    "  encoding = \"utf-8\",\n",
    "  inferSchema = \"true\"\n",
    ")"
   ]
  },
  {
   "cell_type": "code",
   "execution_count": 0,
   "metadata": {
    "application/vnd.databricks.v1+cell": {
     "cellMetadata": {
      "byteLimit": 2048000,
      "rowLimit": 10000
     },
     "inputWidgets": {},
     "nuid": "2667e1fb-b264-4af9-82d4-973de397d027",
     "showTitle": false,
     "tableResultSettingsMap": {},
     "title": ""
    }
   },
   "outputs": [],
   "source": [
    "DROP TABLE IF EXISTS anac_ocorrencias_dev.bronze.aircraft_special_type;\n",
    "CREATE TABLE IF NOT EXISTS anac_ocorrencias_dev.bronze.aircraft_special_type \n",
    "USING csv\n",
    "OPTIONS (\n",
    "  path \"abfss://bronze@ocorrenciasanacdl.dfs.core.windows.net/special_designators_type.csv\",\n",
    "  header = \"true\",\n",
    "  delimiter = \",\",\n",
    "  encoding = \"utf-8\",\n",
    "  inferSchema = \"true\"\n",
    ")"
   ]
  }
 ],
 "metadata": {
  "application/vnd.databricks.v1+notebook": {
   "computePreferences": null,
   "dashboards": [],
   "environmentMetadata": {
    "base_environment": "",
    "environment_version": "2"
   },
   "inputWidgetPreferences": null,
   "language": "sql",
   "notebookMetadata": {
    "pythonIndentUnit": 4
   },
   "notebookName": "create_external_table_occurrences",
   "widgets": {}
  },
  "language_info": {
   "name": "sql"
  }
 },
 "nbformat": 4,
 "nbformat_minor": 0
}
